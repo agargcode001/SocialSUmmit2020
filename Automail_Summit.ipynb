{
 "cells": [
  {
   "cell_type": "code",
   "execution_count": 40,
   "metadata": {
    "scrolled": true
   },
   "outputs": [
    {
     "data": {
      "text/plain": [
       "'NIDHI UPPAL'"
      ]
     },
     "execution_count": 40,
     "metadata": {},
     "output_type": "execute_result"
    }
   ],
   "source": [
    "import email, smtplib, ssl\n",
    "import pandas as pd\n",
    "\n",
    "from email import encoders\n",
    "from email.mime.base import MIMEBase\n",
    "from email.mime.multipart import MIMEMultipart\n",
    "from email.mime.text import MIMEText\n",
    "\n",
    "subject = \"Certificate of Participation || National Social Summit 2020, IIT Roorkee\"\n",
    "\n",
    "\n",
    "#data import\n",
    "data = pd.read_csv('TestEmail.csv')\n",
    "name = data.Name\n",
    "email = data.email\n",
    "summit = data.summit_id\n",
    "\n",
    "name[132]\n",
    "\n"
   ]
  },
  {
   "cell_type": "code",
   "execution_count": 41,
   "metadata": {},
   "outputs": [
    {
     "name": "stdout",
     "output_type": "stream",
     "text": [
      "Type your password and press enter:7451916911@Ankit\n"
     ]
    }
   ],
   "source": [
    "sender_email = \"socialsummit.promotions@gmail.com\"\n",
    "password = input(\"Type your password and press enter:\")\n",
    "context = ssl.create_default_context()\n",
    "server = smtplib.SMTP_SSL(\"smtp.gmail.com\",465)\n",
    "server.login(sender_email,password)\n",
    "\n",
    "text = \"\"\"Dear Delegate,\n",
    "Greetings from National Social Summit’20!\n",
    "\n",
    "Hope you are doing great and reflecting upon your learning during the Summit.\n",
    "\n",
    "Thank you for taking part in the fourth iteration of the National Social Summit, organised by NSS IIT Roorkee from February 14 to February 16, 2020, on the theme “Rebuilding Nature through Innovation”.\n",
    ".\n",
    "We hope that you found the Summit informative and worthwhile. Our primary goal was to increase your understanding of nature and its deteriorating condition, so that we could rebuild our lifestyle around nature. We believe that the knowledge you have learned will help immensely in changing your attitude towards nature and eventually translate into better outputs which will certainly lead to a rejuvenation of nature.\n",
    "\n",
    "Here is a link to the Report of the Summit:-\n",
    "https://drive.google.com/open?id=1BYsmYoUPRfSFDUn6fn6bnuLiD-QLnevk\n",
    "\n",
    "Please find attached the Participation Certificate.\n",
    "Again thank you, we hope to see you again soon.\n",
    "\n",
    "--\n",
    "\n",
    "Warm Regards,\n",
    "\n",
    "Ankit Garg\n",
    "Co-Convener(Marketing & Promotions)\n",
    "National Social Summit, IIT Roorkee\n",
    "\"\"\"\n",
    "\n",
    "index = 135\n",
    "while index < len(name):\n",
    "    # Create a multipart message and set headers\n",
    "    message = MIMEMultipart()\n",
    "    message[\"From\"] = sender_email\n",
    "    message[\"To\"] = email[index]\n",
    "    message[\"Subject\"] = subject\n",
    "    message[\"Bcc\"] = email[index]  # Recommended for mass emails\n",
    "\n",
    "    # Add body to email\n",
    "    message.attach(MIMEText(text, \"plain\"))\n",
    "\n",
    "    filename = \"A\"+summit[index]+\".pdf\"  # In same directory as script\n",
    "\n",
    "    # Open PDF file in binary mode\n",
    "    with open(filename, \"rb\") as attachment:\n",
    "        # Add file as application/octet-stream\n",
    "        # Email client can usually download this automatically as attachment\n",
    "        part = MIMEBase(\"application\", \"octet-stream\")\n",
    "        part.set_payload(attachment.read())\n",
    "\n",
    "    # Encode file in ASCII characters to send by email    \n",
    "    encoders.encode_base64(part)\n",
    "\n",
    "    # Add header as key/value pair to attachment part\n",
    "    part.add_header(\n",
    "        \"Content-Disposition\",\n",
    "        f\"attachment; filename= {filename}\",\n",
    "    )\n",
    "\n",
    "    # Add attachment to message and convert message to string\n",
    "    message.attach(part)\n",
    "    body = message.as_string()\n",
    "\n",
    "    server.sendmail(sender_email, email[index], body)\n",
    "    index += 1"
   ]
  },
  {
   "cell_type": "code",
   "execution_count": null,
   "metadata": {},
   "outputs": [],
   "source": []
  }
 ],
 "metadata": {
  "kernelspec": {
   "display_name": "Python 3",
   "language": "python",
   "name": "python3"
  },
  "language_info": {
   "codemirror_mode": {
    "name": "ipython",
    "version": 3
   },
   "file_extension": ".py",
   "mimetype": "text/x-python",
   "name": "python",
   "nbconvert_exporter": "python",
   "pygments_lexer": "ipython3",
   "version": "3.7.3"
  }
 },
 "nbformat": 4,
 "nbformat_minor": 2
}
